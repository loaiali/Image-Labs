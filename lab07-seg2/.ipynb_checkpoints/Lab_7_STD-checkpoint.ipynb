{
 "cells": [
  {
   "cell_type": "markdown",
   "metadata": {},
   "source": [
    "# Lab 7\n",
    "### Segmentation 2"
   ]
  },
  {
   "cell_type": "code",
   "execution_count": 8,
   "metadata": {},
   "outputs": [
    {
     "name": "stdout",
     "output_type": "stream",
     "text": [
      "The autoreload extension is already loaded. To reload it, use:\n",
      "  %reload_ext autoreload\n"
     ]
    }
   ],
   "source": [
    "from commonfunctions import *\n",
    "%matplotlib inline\n",
    "%load_ext autoreload\n",
    "%autoreload 2"
   ]
  },
  {
   "cell_type": "code",
   "execution_count": 133,
   "metadata": {},
   "outputs": [],
   "source": [
    "def getThreshold(img):\n",
    "    numPixels = img.shape[0] * img.shape[1]\n",
    "    histogram = getHist(img)\n",
    "    grayLevelsCount = len(histogram)\n",
    "    tInit = 0\n",
    "    for grayLevel in range(grayLevelsCount):\n",
    "        segma = grayLevel * histogram[grayLevel] / numPixels\n",
    "        tInit += segma\n",
    "    tInit = np.around(tInit, decimals=0) \n",
    "    t0 = int(tInit)\n",
    "    #print(\"t0\", t0)\n",
    "    t1 = 2*t0\n",
    "    while(abs(t1 - t0) > 0.1):\n",
    "        #lower = np.copy(histogram)\n",
    "        #upper = np.copy(histogram)\n",
    "        \n",
    "        lower = histogram[0:int(t0)]\n",
    "        upper = histogram[int(t0):]\n",
    "        \n",
    "        lowerPixels = np.sum(lower)\n",
    "        upperPixels = np.sum(upper)\n",
    "        lowerSum = 0\n",
    "        upperSum = 0\n",
    "        for i in range(len(lower)):\n",
    "            lowerSum += i*lower[i]\n",
    "        \n",
    "        for i in range(len(upper)):\n",
    "            upperSum += ((len(lower)+i+1)*upper[i])\n",
    "        \n",
    "        if(lowerPixels == nan):\n",
    "            lowerAvg = 255\n",
    "        else:\n",
    "            lowerAvg = lowerSum / lowerPixels\n",
    "            \n",
    "        if(upperPixels == nan):\n",
    "            upperAvg = 255\n",
    "        else:         \n",
    "            upperAvg = upperSum / upperPixels\n",
    "        \n",
    "        print(\"lower upper\", lowerAvg, upperAvg)\n",
    "        t0 = t1\n",
    "        t1 = (lowerAvg + upperAvg) / 2\n",
    "        print(t1,t0)\n",
    "        print(t1 - t0)\n",
    "    return t1"
   ]
  },
  {
   "cell_type": "code",
   "execution_count": 134,
   "metadata": {},
   "outputs": [
    {
     "name": "stdout",
     "output_type": "stream",
     "text": [
      "(256, 256)\n",
      "[[156 159 158 ... 151 152 152]\n",
      " [160 154 157 ... 154 155 153]\n",
      " [156 159 158 ... 151 152 152]\n",
      " ...\n",
      " [114 132 123 ... 135 137 114]\n",
      " [121 126 130 ... 133 130 113]\n",
      " [121 126 130 ... 133 130 113]]\n",
      "[[156 159 158 ... 151 152 152]\n",
      " [160 154 157 ... 154 155 153]\n",
      " [156 159 158 ... 151 152 152]\n",
      " ...\n",
      " [114 132 123 ... 135 137 114]\n",
      " [121 126 130 ... 133 130 113]\n",
      " [121 126 130 ... 133 130 113]]\n",
      "(256, 256)\n"
     ]
    },
    {
     "ename": "UnboundLocalError",
     "evalue": "local variable 'lowerAvg' referenced before assignment",
     "output_type": "error",
     "traceback": [
      "\u001b[1;31m---------------------------------------------------------------------------\u001b[0m",
      "\u001b[1;31mUnboundLocalError\u001b[0m                         Traceback (most recent call last)",
      "\u001b[1;32m<ipython-input-134-e7eb38c7fbcc>\u001b[0m in \u001b[0;36m<module>\u001b[1;34m()\u001b[0m\n\u001b[0;32m     10\u001b[0m     \u001b[0mprint\u001b[0m\u001b[1;33m(\u001b[0m\u001b[0mimg\u001b[0m\u001b[1;33m)\u001b[0m\u001b[1;33m\u001b[0m\u001b[0m\n\u001b[0;32m     11\u001b[0m     \u001b[0mprint\u001b[0m\u001b[1;33m(\u001b[0m\u001b[0mimg\u001b[0m\u001b[1;33m.\u001b[0m\u001b[0mshape\u001b[0m\u001b[1;33m)\u001b[0m\u001b[1;33m\u001b[0m\u001b[0m\n\u001b[1;32m---> 12\u001b[1;33m     \u001b[0mt\u001b[0m \u001b[1;33m=\u001b[0m \u001b[0mgetThreshold\u001b[0m\u001b[1;33m(\u001b[0m\u001b[0mimg\u001b[0m\u001b[1;33m)\u001b[0m\u001b[1;33m\u001b[0m\u001b[0m\n\u001b[0m\u001b[0;32m     13\u001b[0m     \u001b[0mthresholded\u001b[0m \u001b[1;33m=\u001b[0m \u001b[0mnp\u001b[0m\u001b[1;33m.\u001b[0m\u001b[0mcopy\u001b[0m\u001b[1;33m(\u001b[0m\u001b[0mimg\u001b[0m\u001b[1;33m)\u001b[0m\u001b[1;33m\u001b[0m\u001b[0m\n\u001b[0;32m     14\u001b[0m     \u001b[0mthresholded\u001b[0m\u001b[1;33m[\u001b[0m\u001b[1;33m(\u001b[0m\u001b[0mthresholded\u001b[0m \u001b[1;33m<\u001b[0m \u001b[0mt\u001b[0m\u001b[1;33m)\u001b[0m\u001b[1;33m]\u001b[0m \u001b[1;33m=\u001b[0m \u001b[1;36m0\u001b[0m\u001b[1;33m\u001b[0m\u001b[0m\n",
      "\u001b[1;32m<ipython-input-133-d749bf677eea>\u001b[0m in \u001b[0;36mgetThreshold\u001b[1;34m(img)\u001b[0m\n\u001b[0;32m     28\u001b[0m             \u001b[0mupperSum\u001b[0m \u001b[1;33m+=\u001b[0m \u001b[1;33m(\u001b[0m\u001b[1;33m(\u001b[0m\u001b[0mlen\u001b[0m\u001b[1;33m(\u001b[0m\u001b[0mlower\u001b[0m\u001b[1;33m)\u001b[0m\u001b[1;33m+\u001b[0m\u001b[0mi\u001b[0m\u001b[1;33m+\u001b[0m\u001b[1;36m1\u001b[0m\u001b[1;33m)\u001b[0m\u001b[1;33m*\u001b[0m\u001b[0mupper\u001b[0m\u001b[1;33m[\u001b[0m\u001b[0mi\u001b[0m\u001b[1;33m]\u001b[0m\u001b[1;33m)\u001b[0m\u001b[1;33m\u001b[0m\u001b[0m\n\u001b[0;32m     29\u001b[0m \u001b[1;33m\u001b[0m\u001b[0m\n\u001b[1;32m---> 30\u001b[1;33m         \u001b[1;32mif\u001b[0m\u001b[1;33m(\u001b[0m\u001b[0mlowerAvg\u001b[0m \u001b[1;33m==\u001b[0m \u001b[0mnan\u001b[0m\u001b[1;33m)\u001b[0m\u001b[1;33m:\u001b[0m\u001b[1;33m\u001b[0m\u001b[0m\n\u001b[0m\u001b[0;32m     31\u001b[0m             \u001b[0mlowerAvg\u001b[0m \u001b[1;33m=\u001b[0m \u001b[1;36m255\u001b[0m\u001b[1;33m\u001b[0m\u001b[0m\n\u001b[0;32m     32\u001b[0m         \u001b[1;32melse\u001b[0m\u001b[1;33m:\u001b[0m\u001b[1;33m\u001b[0m\u001b[0m\n",
      "\u001b[1;31mUnboundLocalError\u001b[0m: local variable 'lowerAvg' referenced before assignment"
     ]
    }
   ],
   "source": [
    "imgs = ['cameraman.png', 'cameraman.png', 'cufe.png', 'book.png']\n",
    "for img in imgs:\n",
    "    img = io.imread(img)\n",
    "    print(img.shape)\n",
    "    \n",
    "    print(img)\n",
    "    if len(img.shape) == 3:\n",
    "        img = rgb2gray(img)\n",
    "        img = (img * 255).astype(np.uint8)\n",
    "    print(img)\n",
    "    print(img.shape)\n",
    "    t = getThreshold(img)\n",
    "    thresholded = np.copy(img)\n",
    "    thresholded[(thresholded < t)] = 0\n",
    "    thresholded[(thresholded > t)] = 255\n",
    "    show_images((img,thresholded), (\"img\", \"thresholded\"))\n",
    "print('finished')"
   ]
  },
  {
   "cell_type": "code",
   "execution_count": null,
   "metadata": {},
   "outputs": [],
   "source": []
  }
 ],
 "metadata": {
  "kernelspec": {
   "display_name": "Python 3",
   "language": "python",
   "name": "python3"
  },
  "language_info": {
   "codemirror_mode": {
    "name": "ipython",
    "version": 3
   },
   "file_extension": ".py",
   "mimetype": "text/x-python",
   "name": "python",
   "nbconvert_exporter": "python",
   "pygments_lexer": "ipython3",
   "version": "3.6.5"
  }
 },
 "nbformat": 4,
 "nbformat_minor": 2
}
