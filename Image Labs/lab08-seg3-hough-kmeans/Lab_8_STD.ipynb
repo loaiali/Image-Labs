{
 "cells": [
  {
   "cell_type": "markdown",
   "metadata": {},
   "source": [
    "# Lab 8\n",
    "### Seg 3 - Kmeans - Hough\n",
    "\n",
    "threshold_otsu: http://scikit-image.org/docs/dev/api/skimage.filters.html\n",
    "                Good Visualization here: https://en.wikipedia.org/wiki/Otsu%27s_method\n",
    "                \n",
    "                "
   ]
  },
  {
   "cell_type": "code",
   "execution_count": 5,
   "metadata": {},
   "outputs": [
    {
     "name": "stdout",
     "output_type": "stream",
     "text": [
      "The autoreload extension is already loaded. To reload it, use:\n",
      "  %reload_ext autoreload\n"
     ]
    }
   ],
   "source": [
    "from commonfunctions import *\n",
    "\n",
    "%matplotlib inline\n",
    "%load_ext autoreload\n",
    "%autoreload 2"
   ]
  },
  {
   "cell_type": "code",
   "execution_count": 6,
   "metadata": {},
   "outputs": [
    {
     "name": "stdout",
     "output_type": "stream",
     "text": [
      "[10  9  8  7  6  5  4  3  2  1]\n",
      "[3 3 1 8]\n",
      "[7 7 9 2]\n"
     ]
    }
   ],
   "source": [
    "'''\n",
    "Example\n",
    "Array Indexing important note\n",
    "'''\n",
    "x= np.arange(10,0,-1)\n",
    "indexesArray = np.array([3, 3, 1, 8])\n",
    "print(x)\n",
    "print(indexesArray)\n",
    "print(x[indexesArray])\n",
    "# Try it if x "
   ]
  },
  {
   "cell_type": "code",
   "execution_count": 37,
   "metadata": {},
   "outputs": [
    {
     "name": "stdout",
     "output_type": "stream",
     "text": [
      "[[10  9  8  7  6  5  4  3  2  1]\n",
      " [ 0  1  2  3  4  5  6  7  8  9]]\n",
      "[7 7 9 2]\n"
     ]
    }
   ],
   "source": [
    "'''\n",
    "@TODO\n",
    "Requirement\n",
    "Try the same concept on multidimensional array x\n",
    "Don't forget to convert x to numpy array\n",
    "'''\n",
    "x=np.array([np.arange(10,0,-1),np.arange(0,10,1)])\n",
    "indexArray=np.array([3,3,1,8])\n",
    "print(x)\n",
    "#print(indexArray)\n",
    "print(x[0][indexArray])\n"
   ]
  },
  {
   "cell_type": "code",
   "execution_count": null,
   "metadata": {},
   "outputs": [],
   "source": [
    "image = io.imread('balls.jpg')\n",
    "imgCopy=np.copy(image)\n",
    "[x, y, z ]= image.shape\n",
    "img2d = image.reshape(x*y, z)\n",
    "\n",
    "## TODO: Construct kmeans object using cluster.KMeans with appropriate n_clusters\n",
    "kmean=cluster.KMeans(50)\n",
    "kmo=kmean.fit(img2d)\n",
    "centers=kmo.cluster_centers_\n",
    "labels=kmo.labels_\n",
    "\n",
    "img2d=centers[labels]/255.0\n",
    "\n",
    "img2d=img2d.reshape(x,y,z)\n",
    "show_images([imgCopy,img2d],[\"original\",\"segmented\"])\n",
    "\n",
    "\n",
    "## TODO: Fit the kmeans object with the data of the image\n",
    "\n",
    "'''\n",
    "\n",
    "TODO : use the attributes \n",
    "        \".cluster_centers_\" to get the center of the RGB color to use per segment \n",
    "                             [I.e: contains the colors of the new segments]\n",
    "        \".labels_\": to get the label for each pixel of the input.\n",
    " Hint: print the shape of the output to understand it clearly.\n",
    "'''\n",
    "\n",
    "'''\n",
    "\n",
    "TODO: For each label replace it with the corresponding RGB color according to the cluster_centers, cluster_labels\n",
    "Hint: Use the same concept shown above\n",
    "\n",
    "Reshape the image to be on the original shape\n",
    "Show the original and the segmented image\n",
    "\n",
    "\n",
    "'''\n"
   ]
  },
  {
   "cell_type": "code",
   "execution_count": null,
   "metadata": {},
   "outputs": [],
   "source": [
    "'''\n",
    "\n",
    "@TODO:\n",
    "This experiment should be done on Gray scale and on one channel of RGB or HSV\n",
    "\n",
    "use threshold_otsu to get the threshold that should be used to divide the values.\n",
    "'''\n",
    "\n"
   ]
  },
  {
   "cell_type": "code",
   "execution_count": null,
   "metadata": {},
   "outputs": [],
   "source": [
    "import numpy as np\n",
    "\n",
    "\n",
    "def drawLine(ax,angle, dist):\n",
    "    '''\n",
    "    This function should draw the lines, given axis(ax), the angle and the distance parameters\n",
    "    \n",
    "    TODO:\n",
    "    Get x1,y1,x2,y2\n",
    "    '''\n",
    "    \n",
    "    \n",
    "    \n",
    "    # This line draws the line in red\n",
    "    \n",
    "    ax[1].plot((x1, y1), (x2, y2), '-r')\n",
    "\n",
    "'''TODO: \n",
    "1- Read image\n",
    "2- Get edges using Canny.\n",
    "3- Show image and edges side-by-side.\n",
    "4- Call hough lines on edges and get the results (houghSpace,angles, distances)\n",
    "5- Get Hough Line Peaks with different thresholds: the default threshold is 0.5 *max(hspace)\n",
    "* What is the effect of the threshold?\n",
    "* What is the meaning of the outputs of hough_line,hough_line_peak? Hint:print them.\n",
    "* Why do we use canny before hough?!\n",
    "'''\n",
    "\n",
    "\n",
    "\n",
    "\n",
    "\n",
    "\n",
    "## This part draw the lines on the image.\n",
    "\n",
    "fig, axes = plt.subplots(1, 2, figsize=(20, 6))\n",
    "ax = axes.ravel()\n",
    "\n",
    "ax[0].imshow(image, cmap=cm.gray)\n",
    "ax[0].set_title('Input image')\n",
    "ax[0].set_axis_off()\n",
    "\n",
    "\n",
    "ax[1].imshow(image, cmap=cm.gray)\n",
    "for angle, dist in zip(angles,dists):\n",
    "    drawLine(ax,angle, dist)\n",
    "ax[1].set_xlim((0, image.shape[1]))\n",
    "ax[1].set_ylim((image.shape[0], 0))\n",
    "ax[1].set_axis_off()\n",
    "ax[1].set_title('Detected lines')\n",
    "\n",
    "plt.tight_layout()\n",
    "plt.show()\n",
    "\n"
   ]
  },
  {
   "cell_type": "code",
   "execution_count": null,
   "metadata": {},
   "outputs": [],
   "source": []
  }
 ],
 "metadata": {
  "kernelspec": {
   "display_name": "Python 3",
   "language": "python",
   "name": "python3"
  },
  "language_info": {
   "codemirror_mode": {
    "name": "ipython",
    "version": 3
   },
   "file_extension": ".py",
   "mimetype": "text/x-python",
   "name": "python",
   "nbconvert_exporter": "python",
   "pygments_lexer": "ipython3",
   "version": "3.6.5"
  }
 },
 "nbformat": 4,
 "nbformat_minor": 2
}
